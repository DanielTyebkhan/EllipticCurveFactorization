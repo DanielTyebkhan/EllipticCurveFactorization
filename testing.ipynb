{
 "cells": [
  {
   "cell_type": "code",
   "execution_count": 10,
   "metadata": {},
   "outputs": [],
   "source": [
    "import io_helpers\n",
    "from Lenstra import LenstraResult, LenstraAttempt"
   ]
  },
  {
   "cell_type": "code",
   "execution_count": 20,
   "metadata": {},
   "outputs": [
    {
     "name": "stdout",
     "output_type": "stream",
     "text": [
      "LenstraResult(number=38810069, start_time=datetime.datetime(2022, 10, 18, 1, 36, 4, 796330), end_time=datetime.datetime(2022, 10, 18, 1, 36, 5, 121862), success_attempt=LenstraAttempt(start_time=datetime.datetime(2022, 10, 18, 1, 36, 5, 102787), end_time=datetime.datetime(2022, 10, 18, 1, 36, 5, 116714), success=True, curve=Elliptic Curve defined by y^2 = x^3 + 25462991*x + 18512790 over Ring of integers modulo 38810069, point=(33058494 : 7161000 : 1), max_value_checked=47, number=38810069, factors=(7349, 5281)), failed_attempts=[])\n"
     ]
    }
   ],
   "source": [
    "res_path = 'results.p'\n",
    "res = io_helpers.load_pickle(res_path)\n",
    "print(res)"
   ]
  }
 ],
 "metadata": {
  "kernelspec": {
   "display_name": "Python 3.8.10 64-bit",
   "language": "python",
   "name": "python3"
  },
  "language_info": {
   "codemirror_mode": {
    "name": "ipython",
    "version": 3
   },
   "file_extension": ".py",
   "mimetype": "text/x-python",
   "name": "python",
   "nbconvert_exporter": "python",
   "pygments_lexer": "ipython3",
   "version": "3.8.10"
  },
  "orig_nbformat": 4,
  "vscode": {
   "interpreter": {
    "hash": "31f2aee4e71d21fbe5cf8b01ff0e069b9275f58929596ceb00d14d90e3e16cd6"
   }
  }
 },
 "nbformat": 4,
 "nbformat_minor": 2
}
