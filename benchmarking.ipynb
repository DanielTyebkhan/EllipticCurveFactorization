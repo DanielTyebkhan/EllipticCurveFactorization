{
 "cells": [
  {
   "cell_type": "code",
   "execution_count": 9,
   "metadata": {},
   "outputs": [],
   "source": [
    "import os\n",
    "import csv\n",
    "import Lenstra\n",
    "import io_helpers"
   ]
  },
  {
   "cell_type": "code",
   "execution_count": 10,
   "metadata": {},
   "outputs": [
    {
     "name": "stdout",
     "output_type": "stream",
     "text": [
      "Starting factorization at 2022-10-18 18:22:41.345823\n",
      "Proc 0 Attempting to factor with curve: Elliptic Curve defined by y^2 = x^3 + 5*x + 8 over Ring of integers modulo 35 and point: (33 : 30 : 1)\n",
      "Proc 1 Attempting to factor with curve: Elliptic Curve defined by y^2 = x^3 + 14*x + 15 over Ring of integers modulo 35 and point: (32 : 24 : 1)\n",
      "\n",
      "Proc 2 Attempting to factor with curve: Elliptic Curve defined by y^2 = x^3 + 8*x + 13 over Ring of integers modulo 35 and point: (29 : 27 : 1)Proc 3 Attempting to factor with curve: Elliptic Curve defined by y^2 = x^3 + 33*x + 25 over Ring of integers modulo 35 and point: (0 : 30 : 1)\n",
      "Finished factorization at 2022-10-18 18:22:41.373491\n",
      "Factored: 35 as 5 * 7 in 0:00:00.027668\n",
      "Starting factorization at 2022-10-18 18:22:41.381345\n",
      "Proc 0 Attempting to factor with curve: Elliptic Curve defined by y^2 = x^3 + 2165*x + 2505 over Ring of integers modulo 4171 and point: (3665 : 2150 : 1)\n",
      "Proc 1 Attempting to factor with curve: Elliptic Curve defined by y^2 = x^3 + 2063*x + 3317 over Ring of integers modulo 4171 and point: (930 : 2386 : 1)\n",
      "Proc 2 Attempting to factor with curve: Elliptic Curve defined by y^2 = x^3 + 3595*x + 3574 over Ring of integers modulo 4171 and point: (3232 : 2269 : 1)\n",
      "Proc 3 Attempting to factor with curve: Elliptic Curve defined by y^2 = x^3 + 2542*x + 1485 over Ring of integers modulo 4171 and point: (491 : 1311 : 1)\n",
      "Finished factorization at 2022-10-18 18:22:41.406612\n",
      "Factored: 4171 as 43 * 97 in 0:00:00.025267\n",
      "Starting factorization at 2022-10-18 18:22:41.414505\n",
      "Proc 0 Attempting to factor with curve: Elliptic Curve defined by y^2 = x^3 + 83424*x + 425453 over Ring of integers modulo 656837 and point: (614466 : 286561 : 1)\n",
      "Proc 1 Attempting to factor with curve: Elliptic Curve defined by y^2 = x^3 + 153456*x + 464315 over Ring of integers modulo 656837 and point: (646761 : 383056 : 1)\n",
      "Proc 2 Attempting to factor with curve: Elliptic Curve defined by y^2 = x^3 + 627292*x + 128005 over Ring of integers modulo 656837 and point: (188755 : 283278 : 1)\n",
      "Proc 3 Attempting to factor with curve: Elliptic Curve defined by y^2 = x^3 + 443744*x + 73978 over Ring of integers modulo 656837 and point: (93158 : 113356 : 1)\n",
      "Finished factorization at 2022-10-18 18:22:41.435312\n",
      "Factored: 656837 as 937 * 701 in 0:00:00.020807\n",
      "Starting factorization at 2022-10-18 18:22:41.442972\n",
      "Proc 0 Attempting to factor with curve: Elliptic Curve defined by y^2 = x^3 + 2240603121*x + 2344652530 over Ring of integers modulo 2442534499 and point: (489445073 : 1747637049 : 1)\n",
      "Proc 1 Attempting to factor with curve: Elliptic Curve defined by y^2 = x^3 + 598596296*x + 1057736990 over Ring of integers modulo 2442534499 and point: (1775040061 : 446246221 : 1)\n",
      "Proc 2 Attempting to factor with curve: Elliptic Curve defined by y^2 = x^3 + 778114222*x + 1379266016 over Ring of integers modulo 2442534499 and point: (609266441 : 2010629442 : 1)\n",
      "Proc 3 Attempting to factor with curve: Elliptic Curve defined by y^2 = x^3 + 1588812064*x + 238649988 over Ring of integers modulo 2442534499 and point: (1122762753 : 403089806 : 1)\n",
      "Finished factorization at 2022-10-18 18:22:41.472864\n",
      "Factored: 2442534499 as 35227 * 69337 in 0:00:00.029892\n",
      "Starting factorization at 2022-10-18 18:22:41.476534\n",
      "Proc 0 Attempting to factor with curve: Elliptic Curve defined by y^2 = x^3 + 20256185423723862393*x + 28985916335643117067 over Ring of integers modulo 31287702260288579971 and point: (14074912159947779751 : 20416401101745808091 : 1)\n",
      "Proc 1 Attempting to factor with curve: Elliptic Curve defined by y^2 = x^3 + 24837173587813340268*x + 11256469645668195126 over Ring of integers modulo 31287702260288579971 and point: (13399349723900657607 : 13985727559521989304 : 1)\n",
      "Proc 2 Attempting to factor with curve: Elliptic Curve defined by y^2 = x^3 + 13272599078398489045*x + 4863533445001671956 over Ring of integers modulo 31287702260288579971 and point: (19279594248212662788 : 1276339587664681684 : 1)\n",
      "Proc 3 Attempting to factor with curve: Elliptic Curve defined by y^2 = x^3 + 4622981327054223006*x + 16217934681127243126 over Ring of integers modulo 31287702260288579971 and point: (26821684894098220732 : 9196033323346791384 : 1)\n",
      "Proc 0 at attempt 10000\n",
      "Proc 2 at attempt 10000\n",
      "Proc 3 at attempt 10000\n",
      "Proc 1 at attempt 10000\n",
      "Finished factorization at 2022-10-18 18:22:46.605406\n",
      "Factored: 31287702260288579971 as 3267000013 * 9576890767 in 0:00:05.128872\n"
     ]
    }
   ],
   "source": [
    "BENCHMARK_PATH = 'benchmarks.csv'\n",
    "benchmarks = csv.DictReader(open(BENCHMARK_PATH))\n",
    "for b in benchmarks:\n",
    "    p = int(b['p'])\n",
    "    q = int(b['q'])\n",
    "    name = b['name']\n",
    "    path = os.path.join('results', name)\n",
    "    os.makedirs(path)\n",
    "    Lenstra.run_lenstra_parallel(p*q, 4, path)"
   ]
  },
  {
   "cell_type": "code",
   "execution_count": 11,
   "metadata": {},
   "outputs": [
    {
     "name": "stdout",
     "output_type": "stream",
     "text": [
      "LenstraResult(number=2442534499, start_time=datetime.datetime(2022, 10, 18, 18, 22, 41, 442972), end_time=datetime.datetime(2022, 10, 18, 18, 22, 41, 472864), success_attempt=LenstraAttempt(start_time=datetime.datetime(2022, 10, 18, 18, 22, 41, 468949), end_time=datetime.datetime(2022, 10, 18, 18, 22, 41, 471046), success=True, curve=Elliptic Curve defined by y^2 = x^3 + 1588812064*x + 238649988 over Ring of integers modulo 2442534499, point=(1122762753 : 403089806 : 1), max_value_checked=23, number=2442534499, factors=(35227, 69337)), failed_attempts=[LenstraAttempt(start_time=datetime.datetime(2022, 10, 18, 18, 22, 41, 463232), end_time=datetime.datetime(2022, 10, 18, 18, 22, 41, 472991), success=False, curve=Elliptic Curve defined by y^2 = x^3 + 778114222*x + 1379266016 over Ring of integers modulo 2442534499, point=(609266441 : 2010629442 : 1), max_value_checked=71, number=2442534499, factors=None), LenstraAttempt(start_time=datetime.datetime(2022, 10, 18, 18, 22, 41, 458251), end_time=datetime.datetime(2022, 10, 18, 18, 22, 41, 473089), success=False, curve=Elliptic Curve defined by y^2 = x^3 + 598596296*x + 1057736990 over Ring of integers modulo 2442534499, point=(1775040061 : 446246221 : 1), max_value_checked=91, number=2442534499, factors=None), LenstraAttempt(start_time=datetime.datetime(2022, 10, 18, 18, 22, 41, 457382), end_time=datetime.datetime(2022, 10, 18, 18, 22, 41, 473049), success=False, curve=Elliptic Curve defined by y^2 = x^3 + 2240603121*x + 2344652530 over Ring of integers modulo 2442534499, point=(489445073 : 1747637049 : 1), max_value_checked=102, number=2442534499, factors=None)])\n"
     ]
    }
   ],
   "source": [
    "read_path = 'results/10-digit/results.p'\n",
    "print(io_helpers.load_pickle(read_path))"
   ]
  }
 ],
 "metadata": {
  "kernelspec": {
   "display_name": "Python 3.8.10 64-bit",
   "language": "python",
   "name": "python3"
  },
  "language_info": {
   "codemirror_mode": {
    "name": "ipython",
    "version": 3
   },
   "file_extension": ".py",
   "mimetype": "text/x-python",
   "name": "python",
   "nbconvert_exporter": "python",
   "pygments_lexer": "ipython3",
   "version": "3.8.10"
  },
  "orig_nbformat": 4,
  "vscode": {
   "interpreter": {
    "hash": "31f2aee4e71d21fbe5cf8b01ff0e069b9275f58929596ceb00d14d90e3e16cd6"
   }
  }
 },
 "nbformat": 4,
 "nbformat_minor": 2
}
