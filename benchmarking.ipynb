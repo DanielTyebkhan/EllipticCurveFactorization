{
 "cells": [
  {
   "cell_type": "code",
   "execution_count": 2,
   "metadata": {},
   "outputs": [],
   "source": [
    "import os\n",
    "import csv\n",
    "import Lenstra\n",
    "import io_helpers"
   ]
  },
  {
   "cell_type": "code",
   "execution_count": null,
   "metadata": {},
   "outputs": [],
   "source": [
    "BENCHMARK_PATH = 'benchmarks.csv'\n",
    "benchmarks = csv.DictReader(open(BENCHMARK_PATH))\n",
    "for b in benchmarks:\n",
    "    p = int(b['p'])\n",
    "    q = int(b['q'])\n",
    "    name = b['name']\n",
    "    path = os.path.join('results', name)\n",
    "    os.makedirs(path)\n",
    "    Lenstra.run_lenstra_parallel(p*q, 6, path)"
   ]
  },
  {
   "cell_type": "code",
   "execution_count": 8,
   "metadata": {},
   "outputs": [
    {
     "name": "stdout",
     "output_type": "stream",
     "text": [
      "0:42:09.073618\n",
      "(282174488599599500573849980909, 513821217024129243948411056803)\n",
      "144987239145407498168885666553706449749694687227286064573927\n"
     ]
    }
   ],
   "source": [
    "read_path = 'results/30-digit/results.p'\n",
    "res = io_helpers.load_pickle(read_path)\n",
    "print(res.end_time - res.start_time)\n",
    "factors = res.success_attempt.factors\n",
    "print(factors)\n",
    "print(factors[0] * factors[1])\n",
    "#print(res)"
   ]
  }
 ],
 "metadata": {
  "kernelspec": {
   "display_name": "Python 3.8.10 64-bit",
   "language": "python",
   "name": "python3"
  },
  "language_info": {
   "codemirror_mode": {
    "name": "ipython",
    "version": 3
   },
   "file_extension": ".py",
   "mimetype": "text/x-python",
   "name": "python",
   "nbconvert_exporter": "python",
   "pygments_lexer": "ipython3",
   "version": "3.8.10"
  },
  "orig_nbformat": 4,
  "vscode": {
   "interpreter": {
    "hash": "31f2aee4e71d21fbe5cf8b01ff0e069b9275f58929596ceb00d14d90e3e16cd6"
   }
  }
 },
 "nbformat": 4,
 "nbformat_minor": 2
}
